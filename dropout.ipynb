{
 "metadata": {
  "orig_nbformat": 4,
  "kernelspec": {
   "name": "pytorch",
   "display_name": "pytorch",
   "language": "python"
  }
 },
 "nbformat": 4,
 "nbformat_minor": 2,
 "cells": [
  {
   "cell_type": "code",
   "execution_count": 11,
   "metadata": {},
   "outputs": [],
   "source": [
    "import torch\n",
    "import torchvision"
   ]
  },
  {
   "source": [
    "## Load dataset"
   ],
   "cell_type": "markdown",
   "metadata": {}
  },
  {
   "cell_type": "code",
   "execution_count": 71,
   "metadata": {},
   "outputs": [],
   "source": [
    "trans = torchvision.transforms.ToTensor()\n",
    "mnist_train = torchvision.datasets.FashionMNIST(root=\"./data\", train=True, transform=trans, download=True)\n",
    "mnist_test = torchvision.datasets.FashionMNIST(root=\"./data\", train=False, transform=trans, download=True)"
   ]
  },
  {
   "source": [
    "## The dropout layer"
   ],
   "cell_type": "markdown",
   "metadata": {}
  },
  {
   "cell_type": "code",
   "execution_count": 35,
   "metadata": {},
   "outputs": [],
   "source": [
    "def dropout_layer(X, p_keep):\n",
    "    assert 0<=p_keep<=1\n",
    "\n",
    "    # corner cases\n",
    "    if p_keep==0:\n",
    "        return torch.zeros_like(X)\n",
    "    if p_keep==1:\n",
    "        return X\n",
    "    \n",
    "    p_torch = torch.ones_like(X)*p_keep\n",
    "    mask = torch.bernoulli(p_torch)\n",
    "    # we divide X*mask by p_keep so taht we do net need modify the code when testing\n",
    "    return X*mask/p_keep"
   ]
  },
  {
   "source": [
    "## Define the model parameters"
   ],
   "cell_type": "markdown",
   "metadata": {}
  },
  {
   "cell_type": "code",
   "execution_count": 36,
   "metadata": {},
   "outputs": [],
   "source": [
    "num_inputs, num_outputs, num_hiddens1, num_hiddens2 = 784, 10, 256, 256"
   ]
  },
  {
   "source": [
    "## Define the model"
   ],
   "cell_type": "markdown",
   "metadata": {}
  },
  {
   "cell_type": "code",
   "execution_count": 78,
   "metadata": {},
   "outputs": [],
   "source": [
    "p1_keep, p2_keep = 0.8, 0.5\n",
    "\n",
    "class Net(torch.nn.Module):\n",
    "    def __init__(self, num_inputs, num_outputs, num_hiddens1, num_hiddens2,\n",
    "                 is_training=True):\n",
    "        super(Net, self).__init__()\n",
    "        self.num_inputs = num_inputs\n",
    "        # self.num_outputs = num_outputs\n",
    "        self.training = is_training\n",
    "        self.lin1 = torch.nn.Linear(num_inputs, num_hiddens1)\n",
    "        self.lin2 = torch.nn.Linear(num_hiddens1, num_hiddens2)\n",
    "        self.lin3 = torch.nn.Linear(num_hiddens2, num_outputs)\n",
    "        self.relu = torch.nn.ReLU()\n",
    "    \n",
    "    def forward(self, X):\n",
    "        H1 = self.relu(self.lin1(X.reshape(-1, num_inputs)))\n",
    "        ## use dropout only when traning\n",
    "        if self.training:\n",
    "            H1 = dropout_layer(H1, p1_keep)\n",
    "            # print(type(H1))\n",
    "        H2 = self.relu(self.lin2(H1))\n",
    "        if self.training:\n",
    "            H2 = dropout_layer(H2, p2_keep)\n",
    "        out = self.lin3(H2)\n",
    "        return out"
   ]
  },
  {
   "source": [
    "## Traning"
   ],
   "cell_type": "markdown",
   "metadata": {}
  },
  {
   "cell_type": "code",
   "execution_count": 84,
   "metadata": {
    "tags": []
   },
   "outputs": [],
   "source": [
    "num_epochs = 3\n",
    "lr = 0.1\n",
    "net = Net(num_inputs, num_outputs, num_hiddens1, num_hiddens2,\n",
    "                 is_training=True)\n",
    "loss = torch.nn.CrossEntropyLoss()\n",
    "trainer = torch.optim.SGD(net.parameters(), lr=lr)\n",
    "iter_train = iter(torch.utils.data.DataLoader(mnist_train, batch_size=256, shuffle=True, num_workers = 4))\n",
    "iter_test = iter(torch.utils.data.DataLoader(mnist_test, batch_size=256, shuffle=True, num_workers = 4))\n",
    "\n",
    "## start training\n",
    "for epoch in range(num_epochs):\n",
    "    for X, y in iter_train:\n",
    "        y_hat = net(X)\n",
    "        ce_loss = loss(y_hat,y)\n",
    "        ce_loss.sum().backward()\n",
    "        trainer.step()\n"
   ]
  },
  {
   "source": [
    "## Use Pytorch built-in dropout"
   ],
   "cell_type": "markdown",
   "metadata": {}
  },
  {
   "cell_type": "code",
   "execution_count": null,
   "metadata": {},
   "outputs": [],
   "source": [
    "net = torch.nn.Sequential(\n",
    "    torch.nn.Flatten(), torch.nn.Linear(784, 256), torch.nn.ReLU(),\n",
    "    # Add a dropout layer after the first fully connected layer\n",
    "    torch.nn.Dropout(1-p1_keep), torch.nn.Linear(256, 256), torch.nn.ReLU(),\n",
    "    # Add a dropout layer after the second fully connected layer\n",
    "    torch.nn.Dropout(1-p2_keep), torch.nn.Linear(256, 10))\n",
    "\n",
    "\n",
    "def init_weights(m):\n",
    "    if type(m) == torch.nn.Linear:\n",
    "        torch.nn.init.normal_(m.weight, std=0.01)\n",
    "\n",
    "net.apply(init_weights)\n",
    "\n",
    "num_epochs = 3\n",
    "lr = 0.1\n",
    "net = Net(num_inputs, num_outputs, num_hiddens1, num_hiddens2,\n",
    "                 is_training=True)\n",
    "loss = torch.nn.CrossEntropyLoss()\n",
    "trainer = torch.optim.SGD(net.parameters(), lr=lr)\n",
    "iter_train = iter(torch.utils.data.DataLoader(mnist_train, batch_size=256, shuffle=True, num_workers = 4))\n",
    "iter_test = iter(torch.utils.data.DataLoader(mnist_test, batch_size=256, shuffle=True, num_workers = 4))\n",
    "\n",
    "## start training\n",
    "for epoch in range(num_epochs):\n",
    "    for X, y in iter_train:\n",
    "        y_hat = net(X)\n",
    "        # print(y_hat.shape, y.shape)\n",
    "        ce_loss = loss(y_hat,y)\n",
    "        ce_loss.sum().backward()\n",
    "        trainer.step()"
   ]
  },
  {
   "cell_type": "code",
   "execution_count": null,
   "metadata": {},
   "outputs": [],
   "source": []
  }
 ]
}