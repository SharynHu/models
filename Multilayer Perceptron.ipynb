{
 "cells": [
  {
   "cell_type": "code",
   "execution_count": 49,
   "metadata": {},
   "outputs": [],
   "source": [
    "import torch\n",
    "import torchvision"
   ]
  },
  {
   "source": [
    "## Load dataset"
   ],
   "cell_type": "markdown",
   "metadata": {}
  },
  {
   "cell_type": "code",
   "execution_count": 50,
   "metadata": {},
   "outputs": [],
   "source": [
    "def load_fashion_mnist_dataset(batch_size):\n",
    "    train_dataset = torchvision.datasets.FashionMNIST(root=\"./data\", train=True, \\\n",
    "                                                      transform=torchvision.transforms.ToTensor(), download=True)\n",
    "    test_dataset= torchvision.datasets.FashionMNIST(root=\"./data\", train=False, \\\n",
    "                                                      transform=torchvision.transforms.ToTensor(), download=True)\n",
    "    ## return the dataloaders of the two dataset\n",
    "    return torch.utils.data.DataLoader(train_dataset, batch_size=batch_size, shuffle=True, num_workers=4), \\\n",
    "                torch.utils.data.DataLoader(test_dataset, batch_size=batch_size, shuffle=True, num_workers=4)"
   ]
  },
  {
   "cell_type": "code",
   "execution_count": 80,
   "metadata": {},
   "outputs": [],
   "source": [
    "iter_train, iter_test = map(iter, load_fashion_mnist_dataset(256))\n",
    "# print(iter_train, iter_test)\n",
    "# for X, y in iter_train:\n",
    "#     print(X, y)\n",
    "#     break"
   ]
  },
  {
   "source": [
    "## Initialize model parameters"
   ],
   "cell_type": "markdown",
   "metadata": {}
  },
  {
   "cell_type": "code",
   "execution_count": 65,
   "metadata": {},
   "outputs": [
    {
     "output_type": "stream",
     "name": "stdout",
     "text": [
      "torch.Size([784, 256]) torch.Size([256]) torch.Size([256, 10]) torch.Size([10])\n"
     ]
    }
   ],
   "source": [
    "num_inputs, num_outputs, num_hiddens=28*28, 10, 256\n",
    "\n",
    "W1 = torch.normal(mean=0, std=0.01, size=[num_inputs, num_hiddens], requires_grad = True)\n",
    "b1 = torch.zeros(num_hiddens, requires_grad=True)\n",
    "W2 = torch.normal(mean=0, std=0.01, size=[num_hiddens, num_outputs], requires_grad = True)\n",
    "b2 = torch.zeros(num_outputs, requires_grad=True)\n",
    "\n",
    "params = [W1, b1, W2, b2]\n",
    "print(W1.shape, b1.shape, W2.shape, b2.shape)"
   ]
  },
  {
   "cell_type": "markdown",
   "metadata": {},
   "source": [
    "### Activation function"
   ]
  },
  {
   "cell_type": "code",
   "execution_count": 53,
   "metadata": {},
   "outputs": [],
   "source": [
    "def relu(X):\n",
    "    a = torch.zeros_like(X)\n",
    "    return torch.max(X, a)"
   ]
  },
  {
   "cell_type": "markdown",
   "metadata": {},
   "source": [
    "## Model"
   ]
  },
  {
   "cell_type": "code",
   "execution_count": 54,
   "metadata": {},
   "outputs": [],
   "source": [
    "def mlp(X):\n",
    "    X = X.reshape(-1, num_inputs)\n",
    "    hiddens = relu(torch.mm(X, W1)+b1)\n",
    "    # only logits are enough\n",
    "    return torch.mm(hiddens, W2)+b2"
   ]
  },
  {
   "cell_type": "markdown",
   "metadata": {},
   "source": [
    "## Loss function"
   ]
  },
  {
   "cell_type": "code",
   "execution_count": 60,
   "metadata": {},
   "outputs": [],
   "source": [
    "loss = torch.nn.CrossEntropyLoss()"
   ]
  },
  {
   "source": [
    "## Optimizer"
   ],
   "cell_type": "markdown",
   "metadata": {}
  },
  {
   "cell_type": "code",
   "execution_count": 82,
   "metadata": {},
   "outputs": [],
   "source": [
    "def sgd(params, lr, batch_size):\n",
    "    # print(\"in sgd\")\n",
    "    with torch.no_grad():\n",
    "        for param in params:\n",
    "            param -= lr*param.grad/batch_size\n",
    "            # print(param.grad==torch.zeros_like(param))\n",
    "            param.grad.zero_()"
   ]
  },
  {
   "source": [
    "## Training"
   ],
   "cell_type": "markdown",
   "metadata": {}
  },
  {
   "cell_type": "code",
   "execution_count": 83,
   "metadata": {
    "tags": []
   },
   "outputs": [
    {
     "output_type": "stream",
     "name": "stdout",
     "text": [
      "epoch 1, loss 2.291073\nepoch 2, loss 2.291073\nepoch 3, loss 2.291073\n"
     ]
    }
   ],
   "source": [
    "num_epochs = 3\n",
    "lr = 0.1\n",
    "batch_size = 256\n",
    "\n",
    "for epoch in range(num_epochs):\n",
    "    for X, y in iter_train:\n",
    "        # print(X, y)\n",
    "        # print(X.shape)\n",
    "        y_hat_logit = mlp(X)\n",
    "        ce_loss = loss(y_hat_logit, y)  \n",
    "        ce_loss.sum().backward()\n",
    "        sgd(params, lr, batch_size)\n",
    "    # print(X.shape)\n",
    "    # compute the traning loss\n",
    "    with torch.no_grad():\n",
    "        y_hat_logit = mlp(X)\n",
    "        ce_loss = loss(y_hat_logit, y)\n",
    "    #     # acct = accuracy(y_hat, y)\n",
    "        print(f'epoch {epoch + 1}, loss {float(ce_loss.mean()):f}')"
   ]
  },
  {
   "cell_type": "code",
   "execution_count": null,
   "metadata": {},
   "outputs": [],
   "source": []
  }
 ],
 "metadata": {
  "kernelspec": {
   "display_name": "pytorch",
   "language": "python",
   "name": "pytorch"
  }
 },
 "nbformat": 4,
 "nbformat_minor": 4
}